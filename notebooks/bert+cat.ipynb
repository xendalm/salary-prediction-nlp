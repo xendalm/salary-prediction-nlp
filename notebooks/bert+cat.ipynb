{
 "cells": [
  {
   "cell_type": "code",
   "metadata": {},
   "source": [
    "import pandas as pd\n",
    "import numpy as np\n",
    "from sklearn.decomposition import TruncatedSVD\n",
    "import re\n",
    "from nltk.corpus import stopwords\n",
    "from sklearn.feature_extraction.text import TfidfVectorizer\n",
    "from sklearn.compose import ColumnTransformer\n",
    "from sklearn.preprocessing import StandardScaler, OneHotEncoder\n",
    "from sklearn.linear_model import Ridge\n",
    "from sklearn.model_selection import train_test_split\n",
    "from sklearn.metrics import r2_score"
   ],
   "outputs": [],
   "execution_count": null
  },
  {
   "cell_type": "code",
   "metadata": {},
   "source": [
    "train = pd.read_csv('train.csv')\n",
    "test = pd.read_csv('test.csv')\n",
    "\n",
    "train.head()"
   ],
   "outputs": [],
   "execution_count": null
  },
  {
   "cell_type": "code",
   "metadata": {},
   "source": [
    "train.fillna({'experience_from': train['experience_from'].median()}, inplace=True)\n",
    "test.fillna({'experience_from': test['experience_from'].median()}, inplace=True)\n",
    "train.fillna('', inplace=True)\n",
    "test.fillna('', inplace=True)\n",
    "\n",
    "train['location'] = train['location'].str.split(' ').str[0]\n",
    "test['location'] = test['location'].str.split(' ').str[0]\n",
    "\n",
    "train['text'] = train['title'] + ' ' + train['company'] +' ' + train['location'] + train['description'] + ' ' + train['skills'] \n",
    "test['text'] = test['title'] + ' ' + test['company'] +' ' + test['location'] + test['description'] + ' ' + test['skills'] "
   ],
   "outputs": [],
   "execution_count": null
  },
  {
   "cell_type": "code",
   "metadata": {},
   "source": [
    "def clean_text(text):\n",
    "    text = re.sub(r'\\n\\n+', '\\n', text)\n",
    "    text = re.sub(r'\\t+', ' ', text)\n",
    "    text = re.sub(r' +', ' ', text)\n",
    "    return text.strip()\n",
    "\n",
    "train['text'] = train['text'].apply(clean_text)\n",
    "test['text'] = test['text'].apply(clean_text)"
   ],
   "outputs": [],
   "execution_count": null
  },
  {
   "cell_type": "code",
   "metadata": {},
   "source": [
    "X = train.drop(['log_salary_from', 'salary_from', 'title', 'description', 'skills'], axis=1)\n",
    "y = train['log_salary_from']"
   ],
   "outputs": [],
   "execution_count": null
  },
  {
   "cell_type": "code",
   "metadata": {},
   "source": [
    "y_quantiles = np.percentile(y, [0, 25, 50, 75, 100])\n",
    "bins = np.digitize(y, bins=y_quantiles) \n",
    "\n",
    "X_train, X_val, y_train, y_val = train_test_split(X, y, test_size=0.2, random_state=42)"
   ],
   "outputs": [],
   "execution_count": null
  },
  {
   "cell_type": "code",
   "metadata": {},
   "source": [
    "import random\n",
    "import numpy as np\n",
    "import torch\n",
    "from transformers import AutoTokenizer\n",
    "from datasets import Dataset\n",
    "\n",
    "def set_seed(seed: int = 42):\n",
    "    random.seed(seed)\n",
    "    np.random.seed(seed)\n",
    "    torch.manual_seed(seed)\n",
    "    torch.cuda.manual_seed_all(seed)\n",
    "    torch.backends.cudnn.deterministic = True\n",
    "    torch.backends.cudnn.benchmark = False\n",
    "\n",
    "set_seed(42)\n",
    "\n",
    "MODEL_NAME = \"ai-forever/ruBert-large\"\n",
    "tokenizer = AutoTokenizer.from_pretrained(MODEL_NAME)\n",
    "\n",
    "def tokenize_function(examples):\n",
    "    return tokenizer(examples[\"text\"], padding=\"max_length\", truncation=True, max_length=512)\n",
    "\n",
    "train_dataset = Dataset.from_dict({\"text\": X_train['text'], \"label\": y_train.tolist()})\n",
    "val_dataset = Dataset.from_dict({\"text\": X_val['text'], \"label\": y_val.tolist()})\n",
    "\n",
    "train_dataset = train_dataset.map(tokenize_function, batched=True, remove_columns=[\"text\"])\n",
    "val_dataset = val_dataset.map(tokenize_function, batched=True, remove_columns=[\"text\"])"
   ],
   "outputs": [],
   "execution_count": null
  },
  {
   "cell_type": "code",
   "metadata": {},
   "source": [
    "from transformers.trainer_utils import get_last_checkpoint\n",
    "from transformers import AutoModel\n",
    "from torch import nn\n",
    "\n",
    "class BertRegressor(nn.Module):\n",
    "    def __init__(self, model_name):\n",
    "        super(BertRegressor, self).__init__()\n",
    "        self.bert = AutoModel.from_pretrained(model_name, hidden_dropout_prob=0.1, attention_probs_dropout_prob=0.1)\n",
    "        self.regressor = nn.Linear(self.bert.config.hidden_size, 1)\n",
    "        self.loss_fn = nn.HuberLoss()\n",
    "\n",
    "    def forward(self, input_ids, attention_mask, labels=None):\n",
    "        outputs = self.bert(input_ids=input_ids, attention_mask=attention_mask)\n",
    "        pooled_output = outputs.pooler_output  # [CLS]\n",
    "        logits = self.regressor(pooled_output).squeeze(-1)\n",
    "        \n",
    "        if labels is not None:\n",
    "            loss = self.loss_fn(logits, labels)\n",
    "            return {\"loss\": loss, \"logits\": logits}\n",
    "        return {\"logits\": logits}   \n",
    "\n",
    "\n",
    "model = BertRegressor(MODEL_NAME)"
   ],
   "outputs": [],
   "execution_count": null
  },
  {
   "cell_type": "code",
   "metadata": {},
   "source": [
    "from transformers import TrainingArguments, Trainer\n",
    "\n",
    "def compute_metrics(eval_pred):\n",
    "    predictions, labels = eval_pred\n",
    "    predictions = predictions.flatten()\n",
    "    mse = ((predictions - labels) ** 2).mean()\n",
    "    rmse = np.sqrt(mse)\n",
    "    r2 = 1 - mse / np.var(labels)\n",
    "    return {\"rmse\": rmse, \"r2\": r2}\n",
    "\n",
    "output_dir = \"./results_ruBERT\"\n",
    "training_args = TrainingArguments(\n",
    "    output_dir=output_dir,\n",
    "    eval_strategy=\"epoch\",\n",
    "    save_strategy=\"epoch\",\n",
    "    logging_strategy=\"steps\",\n",
    "    logging_steps=200,\n",
    "    learning_rate=6e-6,\n",
    "    per_device_train_batch_size=16,\n",
    "    per_device_eval_batch_size=128,    \n",
    "    save_total_limit=5,  \n",
    "    num_train_epochs=25,\n",
    "    weight_decay=0.1,\n",
    "    warmup_ratio=0.05,\n",
    "    max_grad_norm=1.5,\n",
    "    lr_scheduler_type=\"linear\",\n",
    "    logging_dir=f\"./{output_dir}/logs\",\n",
    "    bf16=torch.cuda.is_bf16_supported(), \n",
    "    fp16=not torch.cuda.is_bf16_supported(),\n",
    "    seed=42,\n",
    "    report_to=\"tensorboard\",\n",
    "    load_best_model_at_end=True,\n",
    "    metric_for_best_model=\"r2\", \n",
    "    greater_is_better=True,\n",
    ")\n",
    "\n",
    "trainer = Trainer(\n",
    "    model=model,\n",
    "    args=training_args,\n",
    "    train_dataset=train_dataset,\n",
    "    eval_dataset=val_dataset,\n",
    "    compute_metrics=compute_metrics,\n",
    ")\n",
    "\n",
    "for param in model.parameters():\n",
    "    param.data = param.data.contiguous()"
   ],
   "outputs": [],
   "execution_count": null
  },
  {
   "cell_type": "code",
   "metadata": {},
   "source": [
    "checkpoint = get_last_checkpoint(output_dir)\n",
    "trainer.train()"
   ],
   "outputs": [],
   "execution_count": null
  },
  {
   "cell_type": "code",
   "metadata": {},
   "source": [
    "bert_train_pred = trainer.predict(train_dataset)\n",
    "bert_val_pred = trainer.predict(val_dataset)\n",
    "\n",
    "print(bert_train_pred.metrics)\n",
    "print(bert_val_pred.metrics)"
   ],
   "outputs": [],
   "execution_count": null
  },
  {
   "cell_type": "code",
   "metadata": {},
   "source": [
    "test_dataset = Dataset.from_dict({\"text\": test['text']})\n",
    "test_dataset = test_dataset.map(tokenize_function, batched=True, remove_columns=[\"text\"])\n",
    "\n",
    "bert_test_pred = trainer.predict(test_dataset)"
   ],
   "outputs": [],
   "execution_count": null
  },
  {
   "cell_type": "code",
   "metadata": {},
   "source": [
    "submission = pd.DataFrame({'index': test.index, 'prediction': bert_test_pred.predictions.flatten()})\n",
    "\n",
    "submission.to_csv('bert submission.csv', index=False)"
   ],
   "outputs": [],
   "execution_count": null
  },
  {
   "cell_type": "code",
   "metadata": {},
   "source": [
    "X_train_bert_df = pd.DataFrame(bert_train_pred.predictions, index=X_train.index, columns=['bert'])\n",
    "X_val_bert_df = pd.DataFrame(bert_val_pred.predictions, index=X_val.index, columns=['bert'])\n",
    "X_test_bert_df = pd.DataFrame(bert_test_pred.predictions, index=test.index, columns=['bert'])"
   ],
   "outputs": [],
   "execution_count": null
  },
  {
   "cell_type": "code",
   "metadata": {},
   "source": [
    "vectorizer = TfidfVectorizer(max_features=20000, stop_words=stopwords.words(\"russian\"), \n",
    "                            sublinear_tf = True, analyzer = \"word\", token_pattern=r\"\\w{1,}\", ngram_range=(1, 2))\n",
    "X_train_tfidf = vectorizer.fit_transform(X_train['text']).toarray()\n",
    "X_val_tfidf = vectorizer.transform(X_val['text']).toarray()\n",
    "X_test_tfidf = vectorizer.transform(test['text']).toarray()\n",
    "\n",
    "svd = TruncatedSVD(n_components=400, random_state=52)\n",
    "\n",
    "X_train_tfidf = svd.fit_transform(X_train_tfidf)\n",
    "X_val_tfidf = svd.transform(X_val_tfidf)\n",
    "X_test_tfidf = svd.transform(X_test_tfidf)\n",
    "\n",
    "np.save('X_train_tfidf.npy', X_train_tfidf)\n",
    "np.save('X_val_tfidf.npy', X_val_tfidf)\n",
    "np.save('X_test_tfidf.npy', X_test_tfidf)\n",
    "\n",
    "# X_train_tfidf = np.load('X_train_tfidf.npy')\n",
    "# X_val_tfidf = np.load('X_val_tfidf.npy')\n",
    "# X_test_tfidf = np.load('X_test_tfidf.npy')"
   ],
   "outputs": [],
   "execution_count": null
  },
  {
   "cell_type": "code",
   "metadata": {},
   "source": [
    "svd_features = [f'svd_{i}' for i in range(X_train_tfidf.shape[1])]\n",
    "\n",
    "X_train_tfidf_df = pd.DataFrame(X_train_tfidf, index=X_train.index, columns=svd_features)\n",
    "X_val_tfidf_df = pd.DataFrame(X_val_tfidf, index=X_val.index, columns=svd_features)\n",
    "X_test_tfidf_df = pd.DataFrame(X_test_tfidf, index=test.index, columns=svd_features)"
   ],
   "outputs": [],
   "execution_count": null
  },
  {
   "cell_type": "code",
   "metadata": {},
   "source": [
    "cat_features = ['location', 'company']\n",
    "num_features = ['experience_from']\n",
    "\n",
    "catboost_train = pd.concat([X_train[cat_features], X_train[num_features], X_train_tfidf_df, X_train_bert_df], axis=1)\n",
    "catboost_val = pd.concat([X_val[cat_features], X_val[num_features], X_val_tfidf_df, X_val_bert_df], axis=1)\n",
    "catboost_test = pd.concat([test[cat_features], test[num_features], X_test_tfidf_df, X_test_bert_df], axis=1)"
   ],
   "outputs": [],
   "execution_count": null
  },
  {
   "cell_type": "code",
   "metadata": {},
   "source": [
    "preprocessor = ColumnTransformer([\n",
    "    ('scaler', StandardScaler(), num_features),\n",
    "    ('ohe', OneHotEncoder(handle_unknown='ignore'), cat_features)\n",
    "])\n",
    "\n",
    "lgb_train = np.hstack([X_train_tfidf, X_train_bert_df, preprocessor.fit_transform(X_train).toarray()])\n",
    "lgb_val = np.hstack([X_val_tfidf, X_val_bert_df, preprocessor.transform(X_val).toarray()])\n",
    "lgb_test = np.hstack([X_test_tfidf, X_test_bert_df, preprocessor.transform(test).toarray()])"
   ],
   "outputs": [],
   "execution_count": null
  },
  {
   "cell_type": "code",
   "metadata": {},
   "source": [
    "import lightgbm as lgb\n",
    "\n",
    "gbr = lgb.LGBMRegressor(n_estimators=543, learning_rate=0.1301314273764898, max_depth=7, \n",
    "                        objective=\"huber\", verbose=\"-1\", random_state=42)\n",
    "\n",
    "gbr.fit(lgb_train, y_train)"
   ],
   "outputs": [],
   "execution_count": null
  },
  {
   "cell_type": "code",
   "metadata": {},
   "source": [
    "gbr_pred_val = gbr.predict(lgb_val)\n",
    "print('R2 Score:', r2_score(y_val, gbr_pred_val))"
   ],
   "outputs": [],
   "execution_count": null
  },
  {
   "cell_type": "code",
   "metadata": {},
   "source": [
    "ridge = Ridge(alpha=1)\n",
    "\n",
    "ridge.fit(lgb_train, y_train)"
   ],
   "outputs": [],
   "execution_count": null
  },
  {
   "cell_type": "code",
   "metadata": {},
   "source": [
    "ridge_pred_val = ridge.predict(lgb_val)\n",
    "print('R2 Score:', r2_score(y_val, ridge_pred_val))"
   ],
   "outputs": [],
   "execution_count": null
  },
  {
   "cell_type": "code",
   "metadata": {},
   "source": [
    "from catboost import CatBoostRegressor\n",
    "\n",
    "catboost = CatBoostRegressor(\n",
    "    iterations=808, learning_rate=0.1610083734630271, depth=9, l2_leaf_reg=0.00034558902847955095,\n",
    "    cat_features=[i for i in range(len(cat_features))], \n",
    "    verbose=100, random_seed=42, task_type=\"GPU\", eval_metric=\"R2\", \n",
    "    od_wait=150, use_best_model=True,\n",
    ")\n",
    "\n",
    "catboost.fit(catboost_train, y_train, eval_set=(catboost_val, y_val))"
   ],
   "outputs": [],
   "execution_count": null
  },
  {
   "cell_type": "code",
   "metadata": {},
   "source": [
    "catboost_pred_val = catboost.predict(catboost_val)\n",
    "print('R2 Score:', r2_score(y_val, catboost_pred_val))"
   ],
   "outputs": [],
   "execution_count": null
  },
  {
   "cell_type": "code",
   "metadata": {},
   "source": [
    "import matplotlib.pyplot as plt\n",
    "import numpy as np\n",
    "\n",
    "feature_importance = catboost.get_feature_importance()\n",
    "feature_names = catboost.feature_names_\n",
    "\n",
    "sorted_idx = np.argsort(feature_importance)[::-1]\n",
    "top_n = 30\n",
    "top_features = np.array(feature_names)[sorted_idx[:top_n]]\n",
    "top_importance = feature_importance[sorted_idx[:top_n]]\n",
    "\n",
    "plt.figure(figsize=(12, 6))\n",
    "plt.barh(top_features[::-1], top_importance[::-1], color=\"royalblue\")\n",
    "plt.xlabel(\"Feature Importance\")\n",
    "plt.ylabel(\"Features\")\n",
    "plt.title(\"CatBoost Feature Importance (Top 30)\")\n",
    "plt.show()"
   ],
   "outputs": [],
   "execution_count": null
  },
  {
   "cell_type": "code",
   "metadata": {},
   "source": [
    "X_meta = np.column_stack((gbr_pred_val, catboost_pred_val, ridge_pred_val))\n",
    "meta_model = Ridge(alpha=0.8)\n",
    "meta_model.fit(X_meta, y_val)\n",
    "y_pred = meta_model.predict(X_meta)\n",
    "\n",
    "print('R2 Score:', r2_score(y_val, y_pred))"
   ],
   "outputs": [],
   "execution_count": null
  },
  {
   "cell_type": "code",
   "metadata": {},
   "source": [
    "X_meta_test = np.column_stack((gbr.predict(lgb_test), catboost.predict(catboost_test), ridge.predict(lgb_test)))\n",
    "final_pred_test = meta_model.predict(X_meta_test)\n",
    "\n",
    "submission = pd.DataFrame({'index': test.index, 'prediction': final_pred_test})\n",
    "\n",
    "submission.to_csv('meta submission.csv', index=False)"
   ],
   "outputs": [],
   "execution_count": null
  }
 ],
 "metadata": {
  "kernelspec": {
   "display_name": ".venv",
   "language": "python",
   "name": "python3"
  },
  "language_info": {
   "codemirror_mode": {
    "name": "ipython",
    "version": 3
   },
   "file_extension": ".py",
   "mimetype": "text/x-python",
   "name": "python",
   "nbconvert_exporter": "python",
   "pygments_lexer": "ipython3",
   "version": "3.10.12"
  }
 },
 "nbformat": 4,
 "nbformat_minor": 2
}
